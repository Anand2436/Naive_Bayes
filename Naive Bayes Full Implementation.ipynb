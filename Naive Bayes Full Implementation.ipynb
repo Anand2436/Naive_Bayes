{
 "cells": [
  {
   "cell_type": "code",
   "execution_count": 1,
   "metadata": {
    "collapsed": true
   },
   "outputs": [],
   "source": [
    "import numpy as np"
   ]
  },
  {
   "cell_type": "code",
   "execution_count": 2,
   "metadata": {
    "collapsed": true
   },
   "outputs": [],
   "source": [
    "def fit(x,y):\n",
    "    result = {}\n",
    "    classes_name = set(y)\n",
    "    \n",
    "    for current_class in classes_name:\n",
    "        result[current_class] = {}\n",
    "        num_features = x.shape[1]\n",
    "        \n",
    "        result['total_data'] = len(y)\n",
    "        \n",
    "        current_class_rows = (y == current_class) # will return np array having true or false enteries\n",
    "        x_current = x[current_class_rows] # rows whose result is current class\n",
    "        y_current = y[current_class_rows]\n",
    "        \n",
    "        result[current_class]['total_count'] = len(y_current)\n",
    "        \n",
    "        for j in range(1,num_features+1):\n",
    "            result[current_class][j] = {}\n",
    "            all_possible_values = set(x[:,j - 1]) # because our range started from 1 to num_features\n",
    "            \n",
    "            for current_value in all_possible_values:\n",
    "                result[current_class][j][current_value] = (x_current[:,j-1] == current_value).sum()\n",
    "                \n",
    "    return result\n",
    "            "
   ]
  },
  {
   "cell_type": "code",
   "execution_count": 3,
   "metadata": {
    "collapsed": true
   },
   "outputs": [],
   "source": [
    "# probabilty of x(single point) belonging to current_class without laplace_correction and without log probabilities\n",
    "\n",
    "def probability1(dictionary, current_class, x):\n",
    "    # prior probabilty / class  probability which is y == current class\n",
    "    \n",
    "    # The below probability must be multiplied with p(x==X/y==current_class)\n",
    "    prior_prob = dictionary[current_class][\"total_count\"] / dictionary[\"total_data\"]\n",
    "    \n",
    "    output = prior_prob\n",
    "    \n",
    "    num_features = len(dictionary[current_class].keys()) - 1\n",
    "    \n",
    "    for j in range(1,num_features+1):\n",
    "        xj = x[j-1]\n",
    "        count_current_class_with_value_xj = dictionary[current_class][j][xj]\n",
    "        count_current_class = dictionary[current_class][\"total_count\"]\n",
    "        \n",
    "        probability_xj = count_current_class_with_value_xj / count_current_class\n",
    "        \n",
    "        output = output * probability_xj\n",
    "        \n",
    "    return output"
   ]
  },
  {
   "cell_type": "code",
   "execution_count": 4,
   "metadata": {
    "collapsed": true
   },
   "outputs": [],
   "source": [
    "# probabilty of x(single point) belonging to current_class with laplace_correction and without log probabilities\n",
    "\n",
    "def probability2(dictionary, current_class, x):\n",
    "    # prior probabilty / class  probability which is y == current class\n",
    "    \n",
    "    # The below probability must be multiplied with p(x==X/y==current_class)\n",
    "    prior_prob = dictionary[current_class][\"total_count\"] / dictionary[\"total_data\"]\n",
    "    \n",
    "    output = prior_prob\n",
    "    \n",
    "    num_features = len(dictionary[current_class].keys()) - 1\n",
    "    \n",
    "    for j in range(1,num_features+1):\n",
    "        xj = x[j-1]\n",
    "        count_current_class_with_value_xj = dictionary[current_class][j][xj] + 1\n",
    "        count_current_class = dictionary[current_class][\"total_count\"] + len(dictionary[current_class][j].keys())\n",
    "        # because all_possible_values that can be taken are equal to len(dict[current_class][j].keys())\n",
    "        probability_xj = count_current_class_with_value_xj / count_current_class\n",
    "        \n",
    "        output = output * probability_xj\n",
    "        \n",
    "    return output"
   ]
  },
  {
   "cell_type": "code",
   "execution_count": 5,
   "metadata": {
    "collapsed": true
   },
   "outputs": [],
   "source": [
    "# probabilty of x(single point) belonging to current_class with laplace_correction and with log probabilities\n",
    "\n",
    "\n",
    "# why log prob required ?\n",
    "# because when we multiply n prob which are close to zero for our output , \n",
    "# output can become so less that it ceases to be zero (hard to store)\n",
    "# and many probabilities of classes will have same values == 0\n",
    "\n",
    "def probability3(dictionary, current_class, x):\n",
    "    # prior probabilty / class  probability which is y == current class\n",
    "    \n",
    "    # The below probability must be multiplied with p(x==X/y==current_class)\n",
    "    prior_prob = np.log(dictionary[current_class][\"total_count\"]) - np.log(dictionary[\"total_data\"])\n",
    "    \n",
    "    output = prior_prob\n",
    "    \n",
    "    num_features = len(dictionary[current_class].keys()) - 1\n",
    "    \n",
    "    for j in range(1,num_features+1):\n",
    "        xj = x[j-1]\n",
    "        count_current_class_with_value_xj = dictionary[current_class][j][xj] + 1\n",
    "        count_current_class = dictionary[current_class][\"total_count\"] + len(dictionary[current_class][j].keys())\n",
    "        # because all_possible_values that can be taken are equal to len(dict[current_class][j].keys())\n",
    "        probability_xj = np.log(count_current_class_with_value_xj) - np.log(count_current_class)\n",
    "        \n",
    "        output = output + probability_xj\n",
    "        \n",
    "    return output"
   ]
  },
  {
   "cell_type": "code",
   "execution_count": 6,
   "metadata": {
    "collapsed": true
   },
   "outputs": [],
   "source": [
    "def predict_single_point(dictionary, x):\n",
    "    classes = dictionary.keys()\n",
    "    \n",
    "    best_prob = -100\n",
    "    best_class = -1\n",
    "    first_run = True\n",
    "    \n",
    "    for current_class in classes:\n",
    "        if current_class == \"total_data\":\n",
    "            continue\n",
    "        p_current_class = probability3(dictionary,current_class,x) # probability of x belonging to current class\n",
    "        \n",
    "        if first_run or p_current_class > best_prob:\n",
    "            best_prob = p_current_class\n",
    "            best_class = current_class\n",
    "            \n",
    "        first_run = False\n",
    "        \n",
    "    return best_class"
   ]
  },
  {
   "cell_type": "code",
   "execution_count": 7,
   "metadata": {
    "collapsed": true
   },
   "outputs": [],
   "source": [
    "def predict(dictionary, x_test):\n",
    "    y_pred = []\n",
    "    for x in x_test:\n",
    "        x_class_predicted = predict_single_point(dictionary, x)\n",
    "        y_pred.append(x_class_predicted)\n",
    "        \n",
    "    return y_pred"
   ]
  },
  {
   "cell_type": "code",
   "execution_count": 8,
   "metadata": {
    "collapsed": true
   },
   "outputs": [],
   "source": [
    "# Labelling into 4 classes : 0,1,2,3\n",
    "\n",
    "def make_labelled(column):\n",
    "    second_limit = column.mean()\n",
    "    first_limit = 0.5 * second_limit\n",
    "    third_limit = 1.5 * second_limit\n",
    "    \n",
    "    for i in range(len(column)):\n",
    "        if column[i] <= first_limit:\n",
    "            column[i] = 0\n",
    "        elif column[i] <= second_limit:\n",
    "            column[i] = 1\n",
    "        elif column[i] <= third_limit:\n",
    "            column[i] = 2\n",
    "        else :\n",
    "            column[i] = 3\n",
    "            \n",
    "    return column"
   ]
  },
  {
   "cell_type": "code",
   "execution_count": 9,
   "metadata": {
    "collapsed": true
   },
   "outputs": [],
   "source": [
    "from sklearn import datasets\n",
    "iris = datasets.load_iris()\n",
    "x = iris.data\n",
    "y = iris.target"
   ]
  },
  {
   "cell_type": "code",
   "execution_count": 10,
   "metadata": {
    "collapsed": true
   },
   "outputs": [],
   "source": [
    "# going through all columns and making them labelled\n",
    "\n",
    "for i in range(x.shape[1]):\n",
    "    x[:,i] = make_labelled(x[:,i])"
   ]
  },
  {
   "cell_type": "code",
   "execution_count": 11,
   "metadata": {},
   "outputs": [
    {
     "name": "stdout",
     "output_type": "stream",
     "text": [
      "[[ 1.  2.  0.  0.]\n",
      " [ 1.  1.  0.  0.]\n",
      " [ 1.  2.  0.  0.]\n",
      " [ 1.  2.  0.  0.]\n",
      " [ 1.  2.  0.  0.]\n",
      " [ 1.  2.  0.  0.]\n",
      " [ 1.  2.  0.  0.]\n",
      " [ 1.  2.  0.  0.]\n",
      " [ 1.  1.  0.  0.]\n",
      " [ 1.  2.  0.  0.]\n",
      " [ 1.  2.  0.  0.]\n",
      " [ 1.  2.  0.  0.]\n",
      " [ 1.  1.  0.  0.]\n",
      " [ 1.  1.  0.  0.]\n",
      " [ 1.  2.  0.  0.]\n",
      " [ 1.  2.  0.  0.]\n",
      " [ 1.  2.  0.  0.]\n",
      " [ 1.  2.  0.  0.]\n",
      " [ 1.  2.  0.  0.]\n",
      " [ 1.  2.  0.  0.]\n",
      " [ 1.  2.  0.  0.]\n",
      " [ 1.  2.  0.  0.]\n",
      " [ 1.  2.  0.  0.]\n",
      " [ 1.  2.  0.  0.]\n",
      " [ 1.  2.  1.  0.]\n",
      " [ 1.  1.  0.  0.]\n",
      " [ 1.  2.  0.  0.]\n",
      " [ 1.  2.  0.  0.]\n",
      " [ 1.  2.  0.  0.]\n",
      " [ 1.  2.  0.  0.]\n",
      " [ 1.  2.  0.  0.]\n",
      " [ 1.  2.  0.  0.]\n",
      " [ 1.  2.  0.  0.]\n",
      " [ 1.  2.  0.  0.]\n",
      " [ 1.  2.  0.  0.]\n",
      " [ 1.  2.  0.  0.]\n",
      " [ 1.  2.  0.  0.]\n",
      " [ 1.  2.  0.  0.]\n",
      " [ 1.  1.  0.  0.]\n",
      " [ 1.  2.  0.  0.]\n",
      " [ 1.  2.  0.  0.]\n",
      " [ 1.  1.  0.  0.]\n",
      " [ 1.  2.  0.  0.]\n",
      " [ 1.  2.  0.  1.]\n",
      " [ 1.  2.  1.  0.]\n",
      " [ 1.  1.  0.  0.]\n",
      " [ 1.  2.  0.  0.]\n",
      " [ 1.  2.  0.  0.]\n",
      " [ 1.  2.  0.  0.]\n",
      " [ 1.  2.  0.  0.]\n",
      " [ 2.  2.  2.  2.]\n",
      " [ 2.  2.  2.  2.]\n",
      " [ 2.  2.  2.  2.]\n",
      " [ 1.  1.  2.  2.]\n",
      " [ 2.  1.  2.  2.]\n",
      " [ 1.  1.  2.  2.]\n",
      " [ 2.  2.  2.  2.]\n",
      " [ 1.  1.  1.  1.]\n",
      " [ 2.  1.  2.  2.]\n",
      " [ 1.  1.  2.  2.]\n",
      " [ 1.  1.  1.  1.]\n",
      " [ 2.  1.  2.  2.]\n",
      " [ 2.  1.  2.  1.]\n",
      " [ 2.  1.  2.  2.]\n",
      " [ 1.  1.  1.  2.]\n",
      " [ 2.  2.  2.  2.]\n",
      " [ 1.  1.  2.  2.]\n",
      " [ 1.  1.  2.  1.]\n",
      " [ 2.  1.  2.  2.]\n",
      " [ 1.  1.  2.  1.]\n",
      " [ 2.  2.  2.  3.]\n",
      " [ 2.  1.  2.  2.]\n",
      " [ 2.  1.  2.  2.]\n",
      " [ 2.  1.  2.  2.]\n",
      " [ 2.  1.  2.  2.]\n",
      " [ 2.  1.  2.  2.]\n",
      " [ 2.  1.  2.  2.]\n",
      " [ 2.  1.  2.  2.]\n",
      " [ 2.  1.  2.  2.]\n",
      " [ 1.  1.  1.  1.]\n",
      " [ 1.  1.  2.  1.]\n",
      " [ 1.  1.  1.  1.]\n",
      " [ 1.  1.  2.  2.]\n",
      " [ 2.  1.  2.  2.]\n",
      " [ 1.  1.  2.  2.]\n",
      " [ 2.  2.  2.  2.]\n",
      " [ 2.  2.  2.  2.]\n",
      " [ 2.  1.  2.  2.]\n",
      " [ 1.  1.  2.  2.]\n",
      " [ 1.  1.  2.  2.]\n",
      " [ 1.  1.  2.  2.]\n",
      " [ 2.  1.  2.  2.]\n",
      " [ 1.  1.  2.  2.]\n",
      " [ 1.  1.  1.  1.]\n",
      " [ 1.  1.  2.  2.]\n",
      " [ 1.  1.  2.  2.]\n",
      " [ 1.  1.  2.  2.]\n",
      " [ 2.  1.  2.  2.]\n",
      " [ 1.  1.  1.  1.]\n",
      " [ 1.  1.  2.  2.]\n",
      " [ 2.  2.  3.  3.]\n",
      " [ 1.  1.  2.  3.]\n",
      " [ 2.  1.  3.  3.]\n",
      " [ 2.  1.  2.  3.]\n",
      " [ 2.  1.  3.  3.]\n",
      " [ 2.  1.  3.  3.]\n",
      " [ 1.  1.  2.  2.]\n",
      " [ 2.  1.  3.  3.]\n",
      " [ 2.  1.  3.  3.]\n",
      " [ 2.  2.  3.  3.]\n",
      " [ 2.  2.  2.  3.]\n",
      " [ 2.  1.  2.  3.]\n",
      " [ 2.  1.  2.  3.]\n",
      " [ 1.  1.  2.  3.]\n",
      " [ 1.  1.  2.  3.]\n",
      " [ 2.  2.  2.  3.]\n",
      " [ 2.  1.  2.  3.]\n",
      " [ 2.  2.  3.  3.]\n",
      " [ 2.  1.  3.  3.]\n",
      " [ 2.  1.  2.  2.]\n",
      " [ 2.  2.  3.  3.]\n",
      " [ 1.  1.  2.  3.]\n",
      " [ 2.  1.  3.  3.]\n",
      " [ 2.  1.  2.  3.]\n",
      " [ 2.  2.  3.  3.]\n",
      " [ 2.  2.  3.  3.]\n",
      " [ 2.  1.  2.  3.]\n",
      " [ 2.  1.  2.  3.]\n",
      " [ 2.  1.  2.  3.]\n",
      " [ 2.  1.  3.  2.]\n",
      " [ 2.  1.  3.  3.]\n",
      " [ 2.  2.  3.  3.]\n",
      " [ 2.  1.  2.  3.]\n",
      " [ 2.  1.  2.  2.]\n",
      " [ 2.  1.  2.  2.]\n",
      " [ 2.  1.  3.  3.]\n",
      " [ 2.  2.  2.  3.]\n",
      " [ 2.  2.  2.  3.]\n",
      " [ 2.  1.  2.  3.]\n",
      " [ 2.  2.  2.  3.]\n",
      " [ 2.  2.  2.  3.]\n",
      " [ 2.  2.  2.  3.]\n",
      " [ 1.  1.  2.  3.]\n",
      " [ 2.  2.  3.  3.]\n",
      " [ 2.  2.  3.  3.]\n",
      " [ 2.  1.  2.  3.]\n",
      " [ 2.  1.  2.  3.]\n",
      " [ 2.  1.  2.  3.]\n",
      " [ 2.  2.  2.  3.]\n",
      " [ 2.  1.  2.  3.]]\n"
     ]
    }
   ],
   "source": [
    "print(x)"
   ]
  },
  {
   "cell_type": "code",
   "execution_count": 12,
   "metadata": {
    "collapsed": true
   },
   "outputs": [],
   "source": [
    "from sklearn.model_selection import train_test_split\n",
    "x_train , x_test , y_train, y_test = train_test_split(x,y,test_size = 0.25,random_state = 0)"
   ]
  },
  {
   "cell_type": "code",
   "execution_count": 13,
   "metadata": {
    "collapsed": true
   },
   "outputs": [],
   "source": [
    "dictionary = fit(x_train,y_train)"
   ]
  },
  {
   "cell_type": "code",
   "execution_count": 14,
   "metadata": {},
   "outputs": [],
   "source": [
    "y_pred = predict(dictionary,x_test)"
   ]
  },
  {
   "cell_type": "code",
   "execution_count": 15,
   "metadata": {},
   "outputs": [
    {
     "name": "stdout",
     "output_type": "stream",
     "text": [
      "             precision    recall  f1-score   support\n",
      "\n",
      "          0       1.00      1.00      1.00        13\n",
      "          1       0.94      1.00      0.97        16\n",
      "          2       1.00      0.89      0.94         9\n",
      "\n",
      "avg / total       0.98      0.97      0.97        38\n",
      "\n",
      "[[13  0  0]\n",
      " [ 0 16  0]\n",
      " [ 0  1  8]]\n"
     ]
    }
   ],
   "source": [
    "from sklearn.metrics import classification_report,confusion_matrix\n",
    "print(classification_report(y_test,y_pred))\n",
    "print(confusion_matrix(y_test,y_pred))"
   ]
  }
 ],
 "metadata": {
  "kernelspec": {
   "display_name": "Python 3",
   "language": "python",
   "name": "python3"
  },
  "language_info": {
   "codemirror_mode": {
    "name": "ipython",
    "version": 3
   },
   "file_extension": ".py",
   "mimetype": "text/x-python",
   "name": "python",
   "nbconvert_exporter": "python",
   "pygments_lexer": "ipython3",
   "version": "3.6.3"
  }
 },
 "nbformat": 4,
 "nbformat_minor": 2
}
